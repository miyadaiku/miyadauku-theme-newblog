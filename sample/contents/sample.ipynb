{
 "cells": [
  {
   "cell_type": "markdown",
   "metadata": {},
   "source": [
    "---\n",
    "tags: テスト\n",
    "---\n",
    "\n",
    "# ipynb サンプルファイル\n",
    "\n",
    "\n",
    "テストドキュメント\n",
    "\n",
    "\n",
    "- ハイライト\n",
    "\n",
    "``` sh\n",
    "ansible \"*\" -m include_role -a name=ロール名 -i ホスト名,\n",
    "```\n",
    "\n",
    "- Pre(fence)\n",
    "\n",
    "```\n",
    "ansible \"*\" -m include_role -a name=ロール名 -i ホスト名,\n",
    "ansible \"*\" -m include_role -a name=ロール名 -i ホスト名,\n",
    "```\n",
    "\n",
    "python\n",
    "\n",
    "```python\n",
    "def f():pass\n",
    "```\n",
    "\n",
    "\n",
    "\n",
    "- Pre(indent)\n",
    "\n",
    "     sdfasdfasfds\n",
    "\n",
    "\n",
    "code\n",
    "\n",
    "`sadfasdf`\n",
    "\n",
    "\n",
    "blockquote\n",
    "\n",
    "> abcdedfggh\n",
    ">> abcdedfggh\n",
    ">>> abcdedfggh\n",
    "\n",
    "\n"
   ]
  },
  {
   "cell_type": "code",
   "execution_count": 1,
   "metadata": {},
   "outputs": [
    {
     "name": "stdout",
     "output_type": "stream",
     "text": [
      "100\n"
     ]
    }
   ],
   "source": [
    "def func():\n",
    "    print(\"100\")\n",
    "func()\n"
   ]
  },
  {
   "cell_type": "code",
   "execution_count": null,
   "metadata": {},
   "outputs": [],
   "source": []
  }
 ],
 "metadata": {
  "kernelspec": {
   "display_name": "Python 3",
   "language": "python",
   "name": "python3"
  },
  "language_info": {
   "codemirror_mode": {
    "name": "ipython",
    "version": 3
   },
   "file_extension": ".py",
   "mimetype": "text/x-python",
   "name": "python",
   "nbconvert_exporter": "python",
   "pygments_lexer": "ipython3",
   "version": "3.8.2"
  }
 },
 "nbformat": 4,
 "nbformat_minor": 4
}
